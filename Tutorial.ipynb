{
 "cells": [
  {
   "cell_type": "markdown",
   "id": "d1a4d6c6-dca0-426d-b4d3-0ee89f50e0cb",
   "metadata": {
    "slideshow": {
     "slide_type": "slide"
    }
   },
   "source": [
    "# Demystifying the Shell \n",
    "\n",
    "# &nbsp; &nbsp; &nbsp; &nbsp; &nbsp; &nbsp; &nbsp; &nbsp; 🤔🐚"
   ]
  },
  {
   "cell_type": "markdown",
   "id": "22c556a0-9d0a-4235-8f3b-b5702faf0a0f",
   "metadata": {
    "jp-MarkdownHeadingCollapsed": true,
    "slideshow": {
     "slide_type": "slide"
    },
    "tags": []
   },
   "source": [
    "# History 📜\n",
    "\n",
    "There are a number of different shells built around the POSIX standard:\n",
    "* `sh` Bourne Shell 1979, one of the first major shells\n",
    "* `bash` Bourne-Again Shell 1989, available on most Linux systems\n",
    "* `zsh` Z Shell 1990, default shell on MacOS (backward compatible with `bash`)\n",
    "* `fish`† Friendly Interactive Shell 2005, A user friendly shell that works out the box\n",
    "* `nushell`† A new type of shell 2019, uses strucutured data over strings ^^\n",
    "\n",
    "<br/>\n",
    "<br/>\n",
    "\n",
    "---\n",
    "\n",
    "_† Not POSIX compliant_\n"
   ]
  },
  {
   "cell_type": "markdown",
   "id": "722bb3fa-555b-4f4e-8fa3-e008327f934d",
   "metadata": {
    "slideshow": {
     "slide_type": "slide"
    },
    "tags": []
   },
   "source": [
    "# Getting Started\n",
    "\n",
    "In this tutorial we will be using `bash`. \n",
    "\n",
    "The notebook has shell commands embed in it that can be run as we go. \n",
    "\n",
    "Let's test this out by running the commands below!"
   ]
  },
  {
   "cell_type": "code",
   "execution_count": 1,
   "id": "a58b9c36-7d13-4e70-96e3-3a1c6b636043",
   "metadata": {
    "slideshow": {
     "slide_type": "fragment"
    },
    "tags": []
   },
   "outputs": [
    {
     "name": "stdout",
     "output_type": "stream",
     "text": [
      "/Users/sam/code/jupyter_shell\n"
     ]
    }
   ],
   "source": [
    "pwd"
   ]
  },
  {
   "cell_type": "code",
   "execution_count": 11,
   "id": "c8586ecc-7450-4356-9928-4f98fc1b4add",
   "metadata": {
    "slideshow": {
     "slide_type": "fragment"
    },
    "tags": []
   },
   "outputs": [
    {
     "name": "stdout",
     "output_type": "stream",
     "text": [
      "World 👋\n"
     ]
    }
   ],
   "source": [
    "./hello"
   ]
  },
  {
   "cell_type": "markdown",
   "id": "fbbc4bed",
   "metadata": {
    "slideshow": {
     "slide_type": "slide"
    },
    "tags": []
   },
   "source": [
    "# Everything is a File\n",
    "\n",
    "All† I/O in Unix is a stream bytes exposed via the filesystem. \n",
    "\n",
    "This means a common set of tools can used for everything \n",
    ">   Write programs that do one thing and do it well. Write programs to work together. Write programs to handle text streams, because that is a universal interface.\n",
    ">\n",
    "> **Unix Philosophy** - Ken Thompson \n",
    "\n",
    "<br/>\n",
    "\n",
    "---\n",
    "\n",
    "_† Well, most of it is_\n"
   ]
  },
  {
   "cell_type": "markdown",
   "id": "6dce4bd9-fd51-4a37-b5a3-a6d50bffaeb2",
   "metadata": {
    "slideshow": {
     "slide_type": "slide"
    }
   },
   "source": [
    "## Stdin, Stdout, Stderr\n",
    "\n",
    "The file descriptiors `0`, `1` & `2` are reserved from stdin, stdout and stderr.\n",
    "\n",
    "They can be redirected to another file with: \n",
    "* `>` (overwrite)\n",
    "* `>>` (append)\n",
    "\n",
    "The operators can be prefixed with a descriptor to redirect that specific stream."
   ]
  },
  {
   "cell_type": "code",
   "execution_count": 15,
   "id": "228a6b9e-5d6a-445e-a51b-6d498a20ca12",
   "metadata": {
    "slideshow": {
     "slide_type": "fragment"
    }
   },
   "outputs": [
    {
     "name": "stdout",
     "output_type": "stream",
     "text": [
      "\u001b[31mError\u001b[0m: an error message sent to stderr\n",
      "\u001b[33mInfo\u001b[0m: some information sent to stdout\n"
     ]
    }
   ],
   "source": [
    "./stdin_and_stderr"
   ]
  },
  {
   "cell_type": "markdown",
   "id": "d161207e",
   "metadata": {
    "slideshow": {
     "slide_type": "fragment"
    }
   },
   "source": [
    "## Questions 🤔\n",
    "\n",
    "Modify the above command to just show\n",
    "1. stderr\n",
    "2. stdout\n",
    "3. neither 🏆\n",
    "\n",
    "> *Hint*: `/dev/null` is a special file that discards anything written to it"
   ]
  },
  {
   "cell_type": "code",
   "execution_count": 14,
   "id": "8df7e05a",
   "metadata": {
    "slideshow": {
     "slide_type": "subslide"
    }
   },
   "outputs": [
    {
     "name": "stdout",
     "output_type": "stream",
     "text": [
      "\u001b[31mError\u001b[0m: an error message sent to stderr\n",
      "\u001b[31mError\u001b[0m: an error message sent to stderr\n"
     ]
    }
   ],
   "source": [
    "./stdin_and_stderr 1>/dev/null\n",
    "./stdin_and_stderr >/dev/null"
   ]
  },
  {
   "cell_type": "code",
   "execution_count": 2,
   "id": "2fe9c727",
   "metadata": {
    "slideshow": {
     "slide_type": "subslide"
    }
   },
   "outputs": [
    {
     "name": "stdout",
     "output_type": "stream",
     "text": [
      "\u001b[33mInfo\u001b[0m: some information sent to stdout\n"
     ]
    }
   ],
   "source": [
    "./stdin_and_stderr 2>/dev/null"
   ]
  },
  {
   "cell_type": "code",
   "execution_count": 15,
   "id": "123ce8f3",
   "metadata": {
    "slideshow": {
     "slide_type": "subslide"
    }
   },
   "outputs": [],
   "source": [
    "./stdin_and_stderr >/dev/null 2>&1 \n",
    "./stdin_and_stderr &>/dev/null "
   ]
  },
  {
   "cell_type": "code",
   "execution_count": null,
   "id": "f52fcab9-ff47-4e92-a383-ada8326412a1",
   "metadata": {
    "slideshow": {
     "slide_type": "slide"
    }
   },
   "outputs": [],
   "source": [
    "# Pipes\n",
    "\n",
    "....\n",
    "\n"
   ]
  },
  {
   "cell_type": "markdown",
   "id": "8e175733-7813-448e-b4a0-d4da508d514c",
   "metadata": {
    "slideshow": {
     "slide_type": "slide"
    },
    "tags": []
   },
   "source": [
    "### Programs Working Together\n",
    "\n"
   ]
  },
  {
   "cell_type": "code",
   "execution_count": null,
   "id": "99f8f5ae-efc1-49f4-b997-13a5772a9ade",
   "metadata": {
    "slideshow": {
     "slide_type": "subslide"
    },
    "tags": []
   },
   "outputs": [],
   "source": [
    "\n",
    "Ideas:\n",
    "* Pipes\n",
    "* Combining Commands\n",
    "* Standard In and Standard Out\n",
    "* Linux Utilities (introduces as we go?)\n",
    "* Puzzles\n"
   ]
  },
  {
   "cell_type": "code",
   "execution_count": null,
   "id": "4343d4c4-54ed-40a5-91a3-acf3ed4a4f03",
   "metadata": {},
   "outputs": [],
   "source": []
  }
 ],
 "metadata": {
  "celltoolbar": "Slideshow",
  "kernelspec": {
   "display_name": "Bash",
   "language": "bash",
   "name": "bash"
  },
  "language_info": {
   "codemirror_mode": "shell",
   "file_extension": ".sh",
   "mimetype": "text/x-sh",
   "name": "bash"
  }
 },
 "nbformat": 4,
 "nbformat_minor": 5
}
